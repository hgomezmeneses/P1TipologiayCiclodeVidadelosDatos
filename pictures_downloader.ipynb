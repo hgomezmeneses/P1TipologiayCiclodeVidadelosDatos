{
 "cells": [
  {
   "cell_type": "code",
   "execution_count": 1,
   "metadata": {},
   "outputs": [],
   "source": [
    "import requests\n",
    "import os\n",
    "from bs4 import BeautifulSoup\n",
    "import re\n",
    "import pandas as pd\n",
    "import urllib.request\n",
    "\n",
    "os.mkdir('Album_Pictures')\n",
    "j=0\n",
    "for i in range(51):\n",
    "    page = requests.get(\"https://www.besteveralbums.com/overall.php?o=&f=&fv=&orderby=-InfoRankScore&sortdir=asc&page=\" + str(1))\n",
    "    soup = BeautifulSoup(page.content, 'html.parser')\n",
    "    pictures = soup.find_all('picture')\n",
    "    for picture in pictures:\n",
    "        url = 'https://www.besteveralbums.com/' + picture.source.get('data-srcset')\n",
    "        path = 'Album_Pictures/album' + str(j) +'.jpg' \n",
    "        urllib.request.urlretrieve(url, path)\n",
    "        j = j+1"
   ]
  },
  {
   "cell_type": "code",
   "execution_count": null,
   "metadata": {},
   "outputs": [],
   "source": []
  }
 ],
 "metadata": {
  "kernelspec": {
   "display_name": "Python 3",
   "language": "python",
   "name": "python3"
  },
  "language_info": {
   "codemirror_mode": {
    "name": "ipython",
    "version": 3
   },
   "file_extension": ".py",
   "mimetype": "text/x-python",
   "name": "python",
   "nbconvert_exporter": "python",
   "pygments_lexer": "ipython3",
   "version": "3.8.3"
  }
 },
 "nbformat": 4,
 "nbformat_minor": 4
}
